{
  "nbformat": 4,
  "nbformat_minor": 0,
  "metadata": {
    "colab": {
      "provenance": [],
      "authorship_tag": "ABX9TyNK5Jj8AJrCOmLrWLi0CMbX",
      "include_colab_link": true
    },
    "kernelspec": {
      "name": "python3",
      "display_name": "Python 3"
    },
    "language_info": {
      "name": "python"
    }
  },
  "cells": [
    {
      "cell_type": "markdown",
      "metadata": {
        "id": "view-in-github",
        "colab_type": "text"
      },
      "source": [
        "<a href=\"https://colab.research.google.com/github/Lupaes/on34-python-s03-logica-II_-Atividade-de-casa/blob/main/Qual%20o%20numero%20maior_Untitled7.ipynb\" target=\"_parent\"><img src=\"https://colab.research.google.com/assets/colab-badge.svg\" alt=\"Open In Colab\"/></a>"
      ]
    },
    {
      "cell_type": "markdown",
      "source": [
        "Faça um programa que peça dois números inteiros de 0 a 100 e imprima o maior.\n",
        "\n",
        "A saída deve ser parecida com isso: O maior número é X sendo que X deve ser o maior número dado pelo usuário.\n",
        "\n",
        "Bônus1: tente fazer como função.\n",
        "\n",
        "Bônus2: peça para o usuário 3 números e diga o mais alto."
      ],
      "metadata": {
        "id": "6EraHjR5b3Iu"
      }
    },
    {
      "cell_type": "code",
      "execution_count": 22,
      "metadata": {
        "colab": {
          "base_uri": "https://localhost:8080/"
        },
        "id": "m3kyaq1ybn9L",
        "outputId": "ca229cd9-42ab-4597-f503-69935b0e74ff"
      },
      "outputs": [
        {
          "output_type": "stream",
          "name": "stdout",
          "text": [
            "Informe os 3 numeros \n",
            "numero1: ?30\n",
            "numero2: ?50\n",
            "numero3: ?10\n",
            "numero2 é o x da questão: \n",
            "fim\n"
          ]
        }
      ],
      "source": [
        "digite = print(\"Informe os 3 numeros \")\n",
        "numero1  = int(input(\"numero1: ?\"))\n",
        "numero2  = int(input(\"numero2: ?\"))\n",
        "numero3  = int(input(\"numero3: ?\"))\n",
        "if numero1 >= 100:\n",
        "  print(\"numero1 é o x da questão: \")\n",
        "elif numero2 > numero1:\n",
        "  print(\"numero2 é o x da questão: \")\n",
        "elif numero3 > numero2 > numero1:\n",
        "  print(\"numero3 é o x da questão: \")\n",
        "else:\n",
        "  print(\"Tente novamente: \")\n",
        "print(\"fim\")\n",
        "\n"
      ]
    },
    {
      "cell_type": "code",
      "source": [
        "digite = print(\"Informe os 2 numeros \")\n",
        "numero1  = int(input(\"numero1: ?\"))\n",
        "numero2  = int(input(\"numero2: ?\"))\n",
        "\n",
        "def numero1_digitado(numero1):\n",
        "    numero1 > numero2\n",
        "    print(\"O numero1 é maior numero:\")\n",
        "print(\"fim\")"
      ],
      "metadata": {
        "colab": {
          "base_uri": "https://localhost:8080/"
        },
        "id": "YGGW-FdgrVZP",
        "outputId": "d21afa46-0210-4d0c-c508-23c473405683"
      },
      "execution_count": 35,
      "outputs": [
        {
          "output_type": "stream",
          "name": "stdout",
          "text": [
            "Informe os 2 numeros \n",
            "numero1: ?90\n",
            "numero2: ?30\n",
            "fim\n"
          ]
        }
      ]
    }
  ]
}